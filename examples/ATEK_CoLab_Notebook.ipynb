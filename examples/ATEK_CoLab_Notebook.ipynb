{
  "cells": [
    {
      "cell_type": "markdown",
      "metadata": {
        "id": "924Eqh3ErHWn"
      },
      "source": [
        "# ATEK CoLab Notebook\n",
        "\n",
        "Welcome to ATEK CoLab Notebook. This notebook\n",
        " will walk through the steps of preparing an Aria data sequence with annotations ([AriaDigitalTwin (ADT)](https://www.projectaria.com/datasets/adt/)), for use in a 3D object detection ML task.\n",
        "We will go through the following steps:\n",
        "1. downloading ADT sample data\n",
        "2. preprocess ADT sample data\n",
        "3. visualize the preprocessed data\n",
        "4. run model inference with ATEK preprocessed data\n",
        "5. evaluate model performance.\n",
        "\n",
        "## Environment set up\n",
        "Click restart session when being asked. Then run the following code block again."
      ]
    },
    {
      "cell_type": "code",
      "execution_count": null,
      "metadata": {
        "collapsed": true,
        "id": "YygI9xSxQJen",
        "jupyter": {
          "outputs_hidden": true
        },
        "outputId": "8f91d710-421d-4a04-a654-4fc91e4d70be",
        "colab": {
          "base_uri": "https://localhost:8080/"
        }
      },
      "outputs": [
        {
          "output_type": "stream",
          "name": "stdout",
          "text": [
            "Collecting git+https://github.com/YLouWashU/omni3d.git\n",
            "  Cloning https://github.com/YLouWashU/omni3d.git to /tmp/pip-req-build-lyp4imqh\n",
            "  Running command git clone --filter=blob:none --quiet https://github.com/YLouWashU/omni3d.git /tmp/pip-req-build-lyp4imqh\n",
            "  Resolved https://github.com/YLouWashU/omni3d.git to commit a5bcbf8fd45e9f69e7ec9de1cebea9e82226d6e2\n",
            "  Preparing metadata (setup.py) ... \u001b[?25l\u001b[?25hdone\n",
            "Requirement already satisfied: projectaria-atek==1.0.0 in /usr/local/lib/python3.10/dist-packages (1.0.0)\n",
            "Requirement already satisfied: pillow in /usr/local/lib/python3.10/dist-packages (from projectaria-atek==1.0.0) (10.4.0)\n",
            "Requirement already satisfied: torchmetrics==0.10.1 in /usr/local/lib/python3.10/dist-packages (from projectaria-atek==1.0.0) (0.10.1)\n",
            "Requirement already satisfied: fvcore in /usr/local/lib/python3.10/dist-packages (from projectaria-atek==1.0.0) (0.1.5.post20221221)\n",
            "Requirement already satisfied: fsspec in /usr/local/lib/python3.10/dist-packages (from projectaria-atek==1.0.0) (2024.6.1)\n",
            "Requirement already satisfied: iopath in /usr/local/lib/python3.10/dist-packages (from projectaria-atek==1.0.0) (0.1.10)\n",
            "Requirement already satisfied: pandas in /usr/local/lib/python3.10/dist-packages (from projectaria-atek==1.0.0) (2.2.2)\n",
            "Requirement already satisfied: tqdm in /usr/local/lib/python3.10/dist-packages (from projectaria-atek==1.0.0) (4.66.5)\n",
            "Requirement already satisfied: scipy in /usr/local/lib/python3.10/dist-packages (from projectaria-atek==1.0.0) (1.13.1)\n",
            "Requirement already satisfied: webdataset in /usr/local/lib/python3.10/dist-packages (from projectaria-atek==1.0.0) (0.2.100)\n",
            "Requirement already satisfied: trimesh in /usr/local/lib/python3.10/dist-packages (from projectaria-atek==1.0.0) (4.5.1)\n",
            "Requirement already satisfied: pybind11 in /usr/local/lib/python3.10/dist-packages (from projectaria-atek==1.0.0) (2.13.6)\n",
            "Requirement already satisfied: toolz in /usr/local/lib/python3.10/dist-packages (from projectaria-atek==1.0.0) (0.12.1)\n",
            "Requirement already satisfied: jupyter in /usr/local/lib/python3.10/dist-packages (from projectaria-atek==1.0.0) (1.1.1)\n",
            "Requirement already satisfied: notebook in /usr/local/lib/python3.10/dist-packages (from projectaria-atek==1.0.0) (6.5.5)\n",
            "Requirement already satisfied: opencv-python in /usr/local/lib/python3.10/dist-packages (from projectaria-atek==1.0.0) (4.10.0.84)\n",
            "Requirement already satisfied: projectaria-tools in /usr/local/lib/python3.10/dist-packages (from projectaria-atek==1.0.0) (1.5.5)\n",
            "Requirement already satisfied: omegaconf in /usr/local/lib/python3.10/dist-packages (from projectaria-atek==1.0.0) (2.3.0)\n",
            "Requirement already satisfied: numpy>=1.17.2 in /usr/local/lib/python3.10/dist-packages (from torchmetrics==0.10.1->projectaria-atek==1.0.0) (1.26.4)\n",
            "Requirement already satisfied: torch>=1.3.1 in /usr/local/lib/python3.10/dist-packages (from torchmetrics==0.10.1->projectaria-atek==1.0.0) (2.5.0+cu121)\n",
            "Requirement already satisfied: packaging in /usr/local/lib/python3.10/dist-packages (from torchmetrics==0.10.1->projectaria-atek==1.0.0) (24.1)\n",
            "Requirement already satisfied: yacs>=0.1.6 in /usr/local/lib/python3.10/dist-packages (from fvcore->projectaria-atek==1.0.0) (0.1.8)\n",
            "Requirement already satisfied: pyyaml>=5.1 in /usr/local/lib/python3.10/dist-packages (from fvcore->projectaria-atek==1.0.0) (6.0.2)\n",
            "Requirement already satisfied: termcolor>=1.1 in /usr/local/lib/python3.10/dist-packages (from fvcore->projectaria-atek==1.0.0) (2.5.0)\n",
            "Requirement already satisfied: tabulate in /usr/local/lib/python3.10/dist-packages (from fvcore->projectaria-atek==1.0.0) (0.9.0)\n",
            "Requirement already satisfied: typing-extensions in /usr/local/lib/python3.10/dist-packages (from iopath->projectaria-atek==1.0.0) (4.12.2)\n",
            "Requirement already satisfied: portalocker in /usr/local/lib/python3.10/dist-packages (from iopath->projectaria-atek==1.0.0) (2.10.1)\n",
            "Requirement already satisfied: jupyter-console in /usr/local/lib/python3.10/dist-packages (from jupyter->projectaria-atek==1.0.0) (6.1.0)\n",
            "Requirement already satisfied: nbconvert in /usr/local/lib/python3.10/dist-packages (from jupyter->projectaria-atek==1.0.0) (6.5.4)\n",
            "Requirement already satisfied: ipykernel in /usr/local/lib/python3.10/dist-packages (from jupyter->projectaria-atek==1.0.0) (6.29.5)\n",
            "Requirement already satisfied: ipywidgets in /usr/local/lib/python3.10/dist-packages (from jupyter->projectaria-atek==1.0.0) (7.7.1)\n",
            "Requirement already satisfied: jupyterlab in /usr/local/lib/python3.10/dist-packages (from jupyter->projectaria-atek==1.0.0) (4.2.5)\n",
            "Requirement already satisfied: jinja2 in /usr/local/lib/python3.10/dist-packages (from notebook->projectaria-atek==1.0.0) (3.1.4)\n",
            "Requirement already satisfied: tornado>=6.1 in /usr/local/lib/python3.10/dist-packages (from notebook->projectaria-atek==1.0.0) (6.3.3)\n",
            "Requirement already satisfied: pyzmq<25,>=17 in /usr/local/lib/python3.10/dist-packages (from notebook->projectaria-atek==1.0.0) (24.0.1)\n",
            "Requirement already satisfied: argon2-cffi in /usr/local/lib/python3.10/dist-packages (from notebook->projectaria-atek==1.0.0) (23.1.0)\n",
            "Requirement already satisfied: traitlets>=4.2.1 in /usr/local/lib/python3.10/dist-packages (from notebook->projectaria-atek==1.0.0) (5.7.1)\n",
            "Requirement already satisfied: jupyter-core>=4.6.1 in /usr/local/lib/python3.10/dist-packages (from notebook->projectaria-atek==1.0.0) (5.7.2)\n",
            "Requirement already satisfied: jupyter-client<8,>=5.3.4 in /usr/local/lib/python3.10/dist-packages (from notebook->projectaria-atek==1.0.0) (7.4.9)\n",
            "Requirement already satisfied: ipython-genutils in /usr/local/lib/python3.10/dist-packages (from notebook->projectaria-atek==1.0.0) (0.2.0)\n",
            "Requirement already satisfied: nbformat in /usr/local/lib/python3.10/dist-packages (from notebook->projectaria-atek==1.0.0) (5.10.4)\n",
            "Requirement already satisfied: nest-asyncio>=1.5 in /usr/local/lib/python3.10/dist-packages (from notebook->projectaria-atek==1.0.0) (1.6.0)\n",
            "Requirement already satisfied: Send2Trash>=1.8.0 in /usr/local/lib/python3.10/dist-packages (from notebook->projectaria-atek==1.0.0) (1.8.3)\n",
            "Requirement already satisfied: terminado>=0.8.3 in /usr/local/lib/python3.10/dist-packages (from notebook->projectaria-atek==1.0.0) (0.18.1)\n",
            "Requirement already satisfied: prometheus-client in /usr/local/lib/python3.10/dist-packages (from notebook->projectaria-atek==1.0.0) (0.21.0)\n",
            "Requirement already satisfied: nbclassic>=0.4.7 in /usr/local/lib/python3.10/dist-packages (from notebook->projectaria-atek==1.0.0) (1.1.0)\n",
            "Requirement already satisfied: antlr4-python3-runtime==4.9.* in /usr/local/lib/python3.10/dist-packages (from omegaconf->projectaria-atek==1.0.0) (4.9.3)\n",
            "Requirement already satisfied: python-dateutil>=2.8.2 in /usr/local/lib/python3.10/dist-packages (from pandas->projectaria-atek==1.0.0) (2.8.2)\n",
            "Requirement already satisfied: pytz>=2020.1 in /usr/local/lib/python3.10/dist-packages (from pandas->projectaria-atek==1.0.0) (2024.2)\n",
            "Requirement already satisfied: tzdata>=2022.7 in /usr/local/lib/python3.10/dist-packages (from pandas->projectaria-atek==1.0.0) (2024.2)\n",
            "Requirement already satisfied: rerun-sdk>=0.12.0 in /usr/local/lib/python3.10/dist-packages (from projectaria-tools->projectaria-atek==1.0.0) (0.19.0)\n",
            "Requirement already satisfied: braceexpand in /usr/local/lib/python3.10/dist-packages (from webdataset->projectaria-atek==1.0.0) (0.1.7)\n",
            "Requirement already satisfied: entrypoints in /usr/local/lib/python3.10/dist-packages (from jupyter-client<8,>=5.3.4->notebook->projectaria-atek==1.0.0) (0.4)\n",
            "Requirement already satisfied: platformdirs>=2.5 in /usr/local/lib/python3.10/dist-packages (from jupyter-core>=4.6.1->notebook->projectaria-atek==1.0.0) (4.3.6)\n",
            "Requirement already satisfied: notebook-shim>=0.2.3 in /usr/local/lib/python3.10/dist-packages (from nbclassic>=0.4.7->notebook->projectaria-atek==1.0.0) (0.2.4)\n",
            "Requirement already satisfied: lxml in /usr/local/lib/python3.10/dist-packages (from nbconvert->jupyter->projectaria-atek==1.0.0) (4.9.4)\n",
            "Requirement already satisfied: beautifulsoup4 in /usr/local/lib/python3.10/dist-packages (from nbconvert->jupyter->projectaria-atek==1.0.0) (4.12.3)\n",
            "Requirement already satisfied: bleach in /usr/local/lib/python3.10/dist-packages (from nbconvert->jupyter->projectaria-atek==1.0.0) (6.1.0)\n",
            "Requirement already satisfied: defusedxml in /usr/local/lib/python3.10/dist-packages (from nbconvert->jupyter->projectaria-atek==1.0.0) (0.7.1)\n",
            "Requirement already satisfied: jupyterlab-pygments in /usr/local/lib/python3.10/dist-packages (from nbconvert->jupyter->projectaria-atek==1.0.0) (0.3.0)\n",
            "Requirement already satisfied: MarkupSafe>=2.0 in /usr/local/lib/python3.10/dist-packages (from nbconvert->jupyter->projectaria-atek==1.0.0) (3.0.2)\n",
            "Requirement already satisfied: mistune<2,>=0.8.1 in /usr/local/lib/python3.10/dist-packages (from nbconvert->jupyter->projectaria-atek==1.0.0) (0.8.4)\n",
            "Requirement already satisfied: nbclient>=0.5.0 in /usr/local/lib/python3.10/dist-packages (from nbconvert->jupyter->projectaria-atek==1.0.0) (0.10.0)\n",
            "Requirement already satisfied: pandocfilters>=1.4.1 in /usr/local/lib/python3.10/dist-packages (from nbconvert->jupyter->projectaria-atek==1.0.0) (1.5.1)\n",
            "Requirement already satisfied: pygments>=2.4.1 in /usr/local/lib/python3.10/dist-packages (from nbconvert->jupyter->projectaria-atek==1.0.0) (2.18.0)\n",
            "Requirement already satisfied: tinycss2 in /usr/local/lib/python3.10/dist-packages (from nbconvert->jupyter->projectaria-atek==1.0.0) (1.3.0)\n",
            "Requirement already satisfied: fastjsonschema>=2.15 in /usr/local/lib/python3.10/dist-packages (from nbformat->notebook->projectaria-atek==1.0.0) (2.20.0)\n",
            "Requirement already satisfied: jsonschema>=2.6 in /usr/local/lib/python3.10/dist-packages (from nbformat->notebook->projectaria-atek==1.0.0) (4.23.0)\n",
            "Requirement already satisfied: six>=1.5 in /usr/local/lib/python3.10/dist-packages (from python-dateutil>=2.8.2->pandas->projectaria-atek==1.0.0) (1.16.0)\n",
            "Requirement already satisfied: attrs>=23.1.0 in /usr/local/lib/python3.10/dist-packages (from rerun-sdk>=0.12.0->projectaria-tools->projectaria-atek==1.0.0) (24.2.0)\n",
            "Requirement already satisfied: pyarrow>=14.0.2 in /usr/local/lib/python3.10/dist-packages (from rerun-sdk>=0.12.0->projectaria-tools->projectaria-atek==1.0.0) (16.1.0)\n",
            "Requirement already satisfied: ptyprocess in /usr/local/lib/python3.10/dist-packages (from terminado>=0.8.3->notebook->projectaria-atek==1.0.0) (0.7.0)\n",
            "Requirement already satisfied: filelock in /usr/local/lib/python3.10/dist-packages (from torch>=1.3.1->torchmetrics==0.10.1->projectaria-atek==1.0.0) (3.16.1)\n",
            "Requirement already satisfied: networkx in /usr/local/lib/python3.10/dist-packages (from torch>=1.3.1->torchmetrics==0.10.1->projectaria-atek==1.0.0) (3.4.2)\n",
            "Requirement already satisfied: sympy==1.13.1 in /usr/local/lib/python3.10/dist-packages (from torch>=1.3.1->torchmetrics==0.10.1->projectaria-atek==1.0.0) (1.13.1)\n",
            "Requirement already satisfied: mpmath<1.4,>=1.1.0 in /usr/local/lib/python3.10/dist-packages (from sympy==1.13.1->torch>=1.3.1->torchmetrics==0.10.1->projectaria-atek==1.0.0) (1.3.0)\n",
            "Requirement already satisfied: argon2-cffi-bindings in /usr/local/lib/python3.10/dist-packages (from argon2-cffi->notebook->projectaria-atek==1.0.0) (21.2.0)\n",
            "Requirement already satisfied: comm>=0.1.1 in /usr/local/lib/python3.10/dist-packages (from ipykernel->jupyter->projectaria-atek==1.0.0) (0.2.2)\n",
            "Requirement already satisfied: debugpy>=1.6.5 in /usr/local/lib/python3.10/dist-packages (from ipykernel->jupyter->projectaria-atek==1.0.0) (1.6.6)\n",
            "Requirement already satisfied: ipython>=7.23.1 in /usr/local/lib/python3.10/dist-packages (from ipykernel->jupyter->projectaria-atek==1.0.0) (7.34.0)\n",
            "Requirement already satisfied: matplotlib-inline>=0.1 in /usr/local/lib/python3.10/dist-packages (from ipykernel->jupyter->projectaria-atek==1.0.0) (0.1.7)\n",
            "Requirement already satisfied: psutil in /usr/local/lib/python3.10/dist-packages (from ipykernel->jupyter->projectaria-atek==1.0.0) (5.9.5)\n",
            "Requirement already satisfied: widgetsnbextension~=3.6.0 in /usr/local/lib/python3.10/dist-packages (from ipywidgets->jupyter->projectaria-atek==1.0.0) (3.6.9)\n",
            "Requirement already satisfied: jupyterlab-widgets>=1.0.0 in /usr/local/lib/python3.10/dist-packages (from ipywidgets->jupyter->projectaria-atek==1.0.0) (3.0.13)\n",
            "Requirement already satisfied: prompt-toolkit!=3.0.0,!=3.0.1,<3.1.0,>=2.0.0 in /usr/local/lib/python3.10/dist-packages (from jupyter-console->jupyter->projectaria-atek==1.0.0) (3.0.48)\n",
            "Requirement already satisfied: async-lru>=1.0.0 in /usr/local/lib/python3.10/dist-packages (from jupyterlab->jupyter->projectaria-atek==1.0.0) (2.0.4)\n",
            "Requirement already satisfied: httpx>=0.25.0 in /usr/local/lib/python3.10/dist-packages (from jupyterlab->jupyter->projectaria-atek==1.0.0) (0.27.2)\n",
            "Requirement already satisfied: jupyter-lsp>=2.0.0 in /usr/local/lib/python3.10/dist-packages (from jupyterlab->jupyter->projectaria-atek==1.0.0) (2.2.5)\n",
            "Requirement already satisfied: jupyter-server<3,>=2.4.0 in /usr/local/lib/python3.10/dist-packages (from jupyterlab->jupyter->projectaria-atek==1.0.0) (2.14.2)\n",
            "Requirement already satisfied: jupyterlab-server<3,>=2.27.1 in /usr/local/lib/python3.10/dist-packages (from jupyterlab->jupyter->projectaria-atek==1.0.0) (2.27.3)\n",
            "Requirement already satisfied: setuptools>=40.1.0 in /usr/local/lib/python3.10/dist-packages (from jupyterlab->jupyter->projectaria-atek==1.0.0) (75.1.0)\n",
            "Requirement already satisfied: tomli>=1.2.2 in /usr/local/lib/python3.10/dist-packages (from jupyterlab->jupyter->projectaria-atek==1.0.0) (2.0.2)\n",
            "Requirement already satisfied: anyio in /usr/local/lib/python3.10/dist-packages (from httpx>=0.25.0->jupyterlab->jupyter->projectaria-atek==1.0.0) (3.7.1)\n",
            "Requirement already satisfied: certifi in /usr/local/lib/python3.10/dist-packages (from httpx>=0.25.0->jupyterlab->jupyter->projectaria-atek==1.0.0) (2024.8.30)\n",
            "Requirement already satisfied: httpcore==1.* in /usr/local/lib/python3.10/dist-packages (from httpx>=0.25.0->jupyterlab->jupyter->projectaria-atek==1.0.0) (1.0.6)\n",
            "Requirement already satisfied: idna in /usr/local/lib/python3.10/dist-packages (from httpx>=0.25.0->jupyterlab->jupyter->projectaria-atek==1.0.0) (3.10)\n",
            "Requirement already satisfied: sniffio in /usr/local/lib/python3.10/dist-packages (from httpx>=0.25.0->jupyterlab->jupyter->projectaria-atek==1.0.0) (1.3.1)\n",
            "Requirement already satisfied: h11<0.15,>=0.13 in /usr/local/lib/python3.10/dist-packages (from httpcore==1.*->httpx>=0.25.0->jupyterlab->jupyter->projectaria-atek==1.0.0) (0.14.0)\n",
            "Requirement already satisfied: jedi>=0.16 in /usr/local/lib/python3.10/dist-packages (from ipython>=7.23.1->ipykernel->jupyter->projectaria-atek==1.0.0) (0.19.1)\n",
            "Requirement already satisfied: decorator in /usr/local/lib/python3.10/dist-packages (from ipython>=7.23.1->ipykernel->jupyter->projectaria-atek==1.0.0) (4.4.2)\n",
            "Requirement already satisfied: pickleshare in /usr/local/lib/python3.10/dist-packages (from ipython>=7.23.1->ipykernel->jupyter->projectaria-atek==1.0.0) (0.7.5)\n",
            "Requirement already satisfied: backcall in /usr/local/lib/python3.10/dist-packages (from ipython>=7.23.1->ipykernel->jupyter->projectaria-atek==1.0.0) (0.2.0)\n",
            "Requirement already satisfied: pexpect>4.3 in /usr/local/lib/python3.10/dist-packages (from ipython>=7.23.1->ipykernel->jupyter->projectaria-atek==1.0.0) (4.9.0)\n",
            "Requirement already satisfied: jsonschema-specifications>=2023.03.6 in /usr/local/lib/python3.10/dist-packages (from jsonschema>=2.6->nbformat->notebook->projectaria-atek==1.0.0) (2024.10.1)\n",
            "Requirement already satisfied: referencing>=0.28.4 in /usr/local/lib/python3.10/dist-packages (from jsonschema>=2.6->nbformat->notebook->projectaria-atek==1.0.0) (0.35.1)\n",
            "Requirement already satisfied: rpds-py>=0.7.1 in /usr/local/lib/python3.10/dist-packages (from jsonschema>=2.6->nbformat->notebook->projectaria-atek==1.0.0) (0.20.0)\n",
            "Requirement already satisfied: jupyter-events>=0.9.0 in /usr/local/lib/python3.10/dist-packages (from jupyter-server<3,>=2.4.0->jupyterlab->jupyter->projectaria-atek==1.0.0) (0.10.0)\n",
            "Requirement already satisfied: jupyter-server-terminals>=0.4.4 in /usr/local/lib/python3.10/dist-packages (from jupyter-server<3,>=2.4.0->jupyterlab->jupyter->projectaria-atek==1.0.0) (0.5.3)\n",
            "Requirement already satisfied: overrides>=5.0 in /usr/local/lib/python3.10/dist-packages (from jupyter-server<3,>=2.4.0->jupyterlab->jupyter->projectaria-atek==1.0.0) (7.7.0)\n",
            "Requirement already satisfied: websocket-client>=1.7 in /usr/local/lib/python3.10/dist-packages (from jupyter-server<3,>=2.4.0->jupyterlab->jupyter->projectaria-atek==1.0.0) (1.8.0)\n",
            "Requirement already satisfied: babel>=2.10 in /usr/local/lib/python3.10/dist-packages (from jupyterlab-server<3,>=2.27.1->jupyterlab->jupyter->projectaria-atek==1.0.0) (2.16.0)\n",
            "Requirement already satisfied: json5>=0.9.0 in /usr/local/lib/python3.10/dist-packages (from jupyterlab-server<3,>=2.27.1->jupyterlab->jupyter->projectaria-atek==1.0.0) (0.9.25)\n",
            "Requirement already satisfied: requests>=2.31 in /usr/local/lib/python3.10/dist-packages (from jupyterlab-server<3,>=2.27.1->jupyterlab->jupyter->projectaria-atek==1.0.0) (2.32.3)\n",
            "Requirement already satisfied: wcwidth in /usr/local/lib/python3.10/dist-packages (from prompt-toolkit!=3.0.0,!=3.0.1,<3.1.0,>=2.0.0->jupyter-console->jupyter->projectaria-atek==1.0.0) (0.2.13)\n",
            "Requirement already satisfied: cffi>=1.0.1 in /usr/local/lib/python3.10/dist-packages (from argon2-cffi-bindings->argon2-cffi->notebook->projectaria-atek==1.0.0) (1.17.1)\n",
            "Requirement already satisfied: soupsieve>1.2 in /usr/local/lib/python3.10/dist-packages (from beautifulsoup4->nbconvert->jupyter->projectaria-atek==1.0.0) (2.6)\n",
            "Requirement already satisfied: webencodings in /usr/local/lib/python3.10/dist-packages (from bleach->nbconvert->jupyter->projectaria-atek==1.0.0) (0.5.1)\n",
            "Requirement already satisfied: exceptiongroup in /usr/local/lib/python3.10/dist-packages (from anyio->httpx>=0.25.0->jupyterlab->jupyter->projectaria-atek==1.0.0) (1.2.2)\n",
            "Requirement already satisfied: pycparser in /usr/local/lib/python3.10/dist-packages (from cffi>=1.0.1->argon2-cffi-bindings->argon2-cffi->notebook->projectaria-atek==1.0.0) (2.22)\n",
            "Requirement already satisfied: parso<0.9.0,>=0.8.3 in /usr/local/lib/python3.10/dist-packages (from jedi>=0.16->ipython>=7.23.1->ipykernel->jupyter->projectaria-atek==1.0.0) (0.8.4)\n",
            "Requirement already satisfied: python-json-logger>=2.0.4 in /usr/local/lib/python3.10/dist-packages (from jupyter-events>=0.9.0->jupyter-server<3,>=2.4.0->jupyterlab->jupyter->projectaria-atek==1.0.0) (2.0.7)\n",
            "Requirement already satisfied: rfc3339-validator in /usr/local/lib/python3.10/dist-packages (from jupyter-events>=0.9.0->jupyter-server<3,>=2.4.0->jupyterlab->jupyter->projectaria-atek==1.0.0) (0.1.4)\n",
            "Requirement already satisfied: rfc3986-validator>=0.1.1 in /usr/local/lib/python3.10/dist-packages (from jupyter-events>=0.9.0->jupyter-server<3,>=2.4.0->jupyterlab->jupyter->projectaria-atek==1.0.0) (0.1.1)\n",
            "Requirement already satisfied: charset-normalizer<4,>=2 in /usr/local/lib/python3.10/dist-packages (from requests>=2.31->jupyterlab-server<3,>=2.27.1->jupyterlab->jupyter->projectaria-atek==1.0.0) (3.4.0)\n",
            "Requirement already satisfied: urllib3<3,>=1.21.1 in /usr/local/lib/python3.10/dist-packages (from requests>=2.31->jupyterlab-server<3,>=2.27.1->jupyterlab->jupyter->projectaria-atek==1.0.0) (2.2.3)\n",
            "Requirement already satisfied: fqdn in /usr/local/lib/python3.10/dist-packages (from jsonschema[format-nongpl]>=4.18.0->jupyter-events>=0.9.0->jupyter-server<3,>=2.4.0->jupyterlab->jupyter->projectaria-atek==1.0.0) (1.5.1)\n",
            "Requirement already satisfied: isoduration in /usr/local/lib/python3.10/dist-packages (from jsonschema[format-nongpl]>=4.18.0->jupyter-events>=0.9.0->jupyter-server<3,>=2.4.0->jupyterlab->jupyter->projectaria-atek==1.0.0) (20.11.0)\n",
            "Requirement already satisfied: jsonpointer>1.13 in /usr/local/lib/python3.10/dist-packages (from jsonschema[format-nongpl]>=4.18.0->jupyter-events>=0.9.0->jupyter-server<3,>=2.4.0->jupyterlab->jupyter->projectaria-atek==1.0.0) (3.0.0)\n",
            "Requirement already satisfied: uri-template in /usr/local/lib/python3.10/dist-packages (from jsonschema[format-nongpl]>=4.18.0->jupyter-events>=0.9.0->jupyter-server<3,>=2.4.0->jupyterlab->jupyter->projectaria-atek==1.0.0) (1.3.0)\n",
            "Requirement already satisfied: webcolors>=24.6.0 in /usr/local/lib/python3.10/dist-packages (from jsonschema[format-nongpl]>=4.18.0->jupyter-events>=0.9.0->jupyter-server<3,>=2.4.0->jupyterlab->jupyter->projectaria-atek==1.0.0) (24.8.0)\n",
            "Requirement already satisfied: arrow>=0.15.0 in /usr/local/lib/python3.10/dist-packages (from isoduration->jsonschema[format-nongpl]>=4.18.0->jupyter-events>=0.9.0->jupyter-server<3,>=2.4.0->jupyterlab->jupyter->projectaria-atek==1.0.0) (1.3.0)\n",
            "Requirement already satisfied: types-python-dateutil>=2.8.10 in /usr/local/lib/python3.10/dist-packages (from arrow>=0.15.0->isoduration->jsonschema[format-nongpl]>=4.18.0->jupyter-events>=0.9.0->jupyter-server<3,>=2.4.0->jupyterlab->jupyter->projectaria-atek==1.0.0) (2.9.0.20241003)\n",
            "Collecting git+https://github.com/facebookresearch/detectron2.git\n",
            "  Cloning https://github.com/facebookresearch/detectron2.git to /tmp/pip-req-build-mwvb7a7a\n",
            "  Running command git clone --filter=blob:none --quiet https://github.com/facebookresearch/detectron2.git /tmp/pip-req-build-mwvb7a7a\n",
            "  Resolved https://github.com/facebookresearch/detectron2.git to commit 8d85329aed8506ea3672e3e208971345973ea761\n",
            "  Preparing metadata (setup.py) ... \u001b[?25l\u001b[?25hdone\n",
            "Requirement already satisfied: Pillow>=7.1 in /usr/local/lib/python3.10/dist-packages (from detectron2==0.6) (10.4.0)\n",
            "Requirement already satisfied: matplotlib in /usr/local/lib/python3.10/dist-packages (from detectron2==0.6) (3.7.1)\n",
            "Requirement already satisfied: pycocotools>=2.0.2 in /usr/local/lib/python3.10/dist-packages (from detectron2==0.6) (2.0.8)\n",
            "Requirement already satisfied: termcolor>=1.1 in /usr/local/lib/python3.10/dist-packages (from detectron2==0.6) (2.5.0)\n",
            "Requirement already satisfied: yacs>=0.1.8 in /usr/local/lib/python3.10/dist-packages (from detectron2==0.6) (0.1.8)\n",
            "Requirement already satisfied: tabulate in /usr/local/lib/python3.10/dist-packages (from detectron2==0.6) (0.9.0)\n",
            "Requirement already satisfied: cloudpickle in /usr/local/lib/python3.10/dist-packages (from detectron2==0.6) (3.1.0)\n",
            "Requirement already satisfied: tqdm>4.29.0 in /usr/local/lib/python3.10/dist-packages (from detectron2==0.6) (4.66.5)\n",
            "Requirement already satisfied: tensorboard in /usr/local/lib/python3.10/dist-packages (from detectron2==0.6) (2.17.0)\n",
            "Requirement already satisfied: fvcore<0.1.6,>=0.1.5 in /usr/local/lib/python3.10/dist-packages (from detectron2==0.6) (0.1.5.post20221221)\n",
            "Collecting iopath<0.1.10,>=0.1.7 (from detectron2==0.6)\n",
            "  Downloading iopath-0.1.9-py3-none-any.whl.metadata (370 bytes)\n",
            "Requirement already satisfied: omegaconf<2.4,>=2.1 in /usr/local/lib/python3.10/dist-packages (from detectron2==0.6) (2.3.0)\n",
            "Collecting hydra-core>=1.1 (from detectron2==0.6)\n",
            "  Downloading hydra_core-1.3.2-py3-none-any.whl.metadata (5.5 kB)\n",
            "Collecting black (from detectron2==0.6)\n",
            "  Downloading black-24.10.0-cp310-cp310-manylinux_2_17_x86_64.manylinux2014_x86_64.manylinux_2_28_x86_64.whl.metadata (79 kB)\n",
            "\u001b[2K     \u001b[90m━━━━━━━━━━━━━━━━━━━━━━━━━━━━━━━━━━━━━━━━\u001b[0m \u001b[32m79.2/79.2 kB\u001b[0m \u001b[31m2.4 MB/s\u001b[0m eta \u001b[36m0:00:00\u001b[0m\n",
            "\u001b[?25hRequirement already satisfied: packaging in /usr/local/lib/python3.10/dist-packages (from detectron2==0.6) (24.1)\n",
            "Requirement already satisfied: numpy in /usr/local/lib/python3.10/dist-packages (from fvcore<0.1.6,>=0.1.5->detectron2==0.6) (1.26.4)\n",
            "Requirement already satisfied: pyyaml>=5.1 in /usr/local/lib/python3.10/dist-packages (from fvcore<0.1.6,>=0.1.5->detectron2==0.6) (6.0.2)\n",
            "Requirement already satisfied: antlr4-python3-runtime==4.9.* in /usr/local/lib/python3.10/dist-packages (from hydra-core>=1.1->detectron2==0.6) (4.9.3)\n",
            "Requirement already satisfied: portalocker in /usr/local/lib/python3.10/dist-packages (from iopath<0.1.10,>=0.1.7->detectron2==0.6) (2.10.1)\n",
            "Requirement already satisfied: contourpy>=1.0.1 in /usr/local/lib/python3.10/dist-packages (from matplotlib->detectron2==0.6) (1.3.0)\n",
            "Requirement already satisfied: cycler>=0.10 in /usr/local/lib/python3.10/dist-packages (from matplotlib->detectron2==0.6) (0.12.1)\n",
            "Requirement already satisfied: fonttools>=4.22.0 in /usr/local/lib/python3.10/dist-packages (from matplotlib->detectron2==0.6) (4.54.1)\n",
            "Requirement already satisfied: kiwisolver>=1.0.1 in /usr/local/lib/python3.10/dist-packages (from matplotlib->detectron2==0.6) (1.4.7)\n",
            "Requirement already satisfied: pyparsing>=2.3.1 in /usr/local/lib/python3.10/dist-packages (from matplotlib->detectron2==0.6) (3.2.0)\n",
            "Requirement already satisfied: python-dateutil>=2.7 in /usr/local/lib/python3.10/dist-packages (from matplotlib->detectron2==0.6) (2.8.2)\n",
            "Requirement already satisfied: click>=8.0.0 in /usr/local/lib/python3.10/dist-packages (from black->detectron2==0.6) (8.1.7)\n",
            "Collecting mypy-extensions>=0.4.3 (from black->detectron2==0.6)\n",
            "  Downloading mypy_extensions-1.0.0-py3-none-any.whl.metadata (1.1 kB)\n",
            "Collecting pathspec>=0.9.0 (from black->detectron2==0.6)\n",
            "  Downloading pathspec-0.12.1-py3-none-any.whl.metadata (21 kB)\n",
            "Requirement already satisfied: platformdirs>=2 in /usr/local/lib/python3.10/dist-packages (from black->detectron2==0.6) (4.3.6)\n",
            "Requirement already satisfied: tomli>=1.1.0 in /usr/local/lib/python3.10/dist-packages (from black->detectron2==0.6) (2.0.2)\n",
            "Requirement already satisfied: typing-extensions>=4.0.1 in /usr/local/lib/python3.10/dist-packages (from black->detectron2==0.6) (4.12.2)\n",
            "Requirement already satisfied: absl-py>=0.4 in /usr/local/lib/python3.10/dist-packages (from tensorboard->detectron2==0.6) (1.4.0)\n",
            "Requirement already satisfied: grpcio>=1.48.2 in /usr/local/lib/python3.10/dist-packages (from tensorboard->detectron2==0.6) (1.64.1)\n",
            "Requirement already satisfied: markdown>=2.6.8 in /usr/local/lib/python3.10/dist-packages (from tensorboard->detectron2==0.6) (3.7)\n",
            "Requirement already satisfied: protobuf!=4.24.0,<5.0.0,>=3.19.6 in /usr/local/lib/python3.10/dist-packages (from tensorboard->detectron2==0.6) (3.20.3)\n",
            "Requirement already satisfied: setuptools>=41.0.0 in /usr/local/lib/python3.10/dist-packages (from tensorboard->detectron2==0.6) (75.1.0)\n",
            "Requirement already satisfied: six>1.9 in /usr/local/lib/python3.10/dist-packages (from tensorboard->detectron2==0.6) (1.16.0)\n",
            "Requirement already satisfied: tensorboard-data-server<0.8.0,>=0.7.0 in /usr/local/lib/python3.10/dist-packages (from tensorboard->detectron2==0.6) (0.7.2)\n",
            "Requirement already satisfied: werkzeug>=1.0.1 in /usr/local/lib/python3.10/dist-packages (from tensorboard->detectron2==0.6) (3.0.4)\n",
            "Requirement already satisfied: MarkupSafe>=2.1.1 in /usr/local/lib/python3.10/dist-packages (from werkzeug>=1.0.1->tensorboard->detectron2==0.6) (3.0.2)\n",
            "Downloading hydra_core-1.3.2-py3-none-any.whl (154 kB)\n",
            "\u001b[2K   \u001b[90m━━━━━━━━━━━━━━━━━━━━━━━━━━━━━━━━━━━━━━━━\u001b[0m \u001b[32m154.5/154.5 kB\u001b[0m \u001b[31m6.7 MB/s\u001b[0m eta \u001b[36m0:00:00\u001b[0m\n",
            "\u001b[?25hDownloading iopath-0.1.9-py3-none-any.whl (27 kB)\n",
            "Downloading black-24.10.0-cp310-cp310-manylinux_2_17_x86_64.manylinux2014_x86_64.manylinux_2_28_x86_64.whl (1.8 MB)\n",
            "\u001b[2K   \u001b[90m━━━━━━━━━━━━━━━━━━━━━━━━━━━━━━━━━━━━━━━━\u001b[0m \u001b[32m1.8/1.8 MB\u001b[0m \u001b[31m32.2 MB/s\u001b[0m eta \u001b[36m0:00:00\u001b[0m\n",
            "\u001b[?25hDownloading mypy_extensions-1.0.0-py3-none-any.whl (4.7 kB)\n",
            "Downloading pathspec-0.12.1-py3-none-any.whl (31 kB)\n",
            "Building wheels for collected packages: detectron2\n"
          ]
        }
      ],
      "source": [
        "!pip install 'git+https://github.com/YLouWashU/omni3d.git'\n",
        "!pip install projectaria-atek==1.0.0\n",
        "!pip install 'git+https://github.com/facebookresearch/detectron2.git'\n",
        "!pip install iopath\n",
        "import sys\n",
        "import torch\n",
        "pyt_version_str=torch.__version__.split(\"+\")[0].replace(\".\", \"\")\n",
        "version_str=\"\".join([\n",
        "    f\"py3{sys.version_info.minor}_cu\",\n",
        "    torch.version.cuda.replace(\".\",\"\"),\n",
        "    f\"_pyt{pyt_version_str}\"\n",
        "])\n",
        "!pip install --no-index --no-cache-dir pytorch3d -f https://dl.fbaipublicfiles.com/pytorch3d/packaging/wheels/{version_str}/download.html\n",
        "!pip install rerun-sdk[notebook]"
      ]
    },
    {
      "cell_type": "code",
      "execution_count": 1,
      "metadata": {
        "id": "mejA1LJYoqny"
      },
      "outputs": [],
      "source": [
        "import requests\n",
        "\n",
        "url = \"https://www.projectaria.com/async/sample/download/?bucket=atek&filename=ATEK_example_model_weights.tar\"\n",
        "response = requests.get(url)\n",
        "\n",
        "# Specify the path where you want to save the file\n",
        "file_path = \"/content/ATEK_example_model_weights.tar\"\n",
        "\n",
        "# Open the file in binary write mode and write the contents of the response\n",
        "with open(file_path, \"wb\") as file:\n",
        "    file.write(response.content)"
      ]
    },
    {
      "cell_type": "code",
      "execution_count": 2,
      "metadata": {
        "collapsed": true,
        "id": "s2-IjOuiBsim",
        "jupyter": {
          "outputs_hidden": true
        },
        "outputId": "824800ac-9384-4382-8b6d-862ff46b42d5",
        "colab": {
          "base_uri": "https://localhost:8080/"
        }
      },
      "outputs": [
        {
          "output_type": "stream",
          "name": "stdout",
          "text": [
            "./model_weights/\n",
            "./model_weights/LICENSE\n",
            "./model_weights/ATEK_example_cubercnn_weights_trained_on_ADT/\n",
            "./model_weights/ATEK_example_cubercnn_weights_trained_on_ADT/config.yaml\n",
            "./model_weights/ATEK_example_cubercnn_weights_trained_on_ADT/metrics.json\n",
            "./model_weights/ATEK_example_cubercnn_weights_trained_on_ADT/model_final.pth\n",
            "./model_weights/ATEK_example_cubercnn_weights_trained_on_ADT/last_checkpoint\n",
            "./model_weights/ATEK_example_cubercnn_weights_trained_on_ASE/\n",
            "./model_weights/ATEK_example_cubercnn_weights_trained_on_ASE/config.yaml\n",
            "./model_weights/ATEK_example_cubercnn_weights_trained_on_ASE/metrics.json\n",
            "./model_weights/ATEK_example_cubercnn_weights_trained_on_ASE/last_checkpoint\n",
            "./model_weights/ATEK_example_cubercnn_weights_trained_on_ASE/model_recent.pth\n"
          ]
        }
      ],
      "source": [
        "!mkdir -p /content/data\n",
        "!tar -xvf /content/ATEK_example_model_weights.tar -C /content/data"
      ]
    },
    {
      "cell_type": "code",
      "execution_count": 3,
      "metadata": {
        "collapsed": true,
        "id": "EUZA4zzGfrdJ",
        "jupyter": {
          "outputs_hidden": true
        },
        "outputId": "124a8978-5515-4549-d4c7-13776be406b4",
        "colab": {
          "base_uri": "https://localhost:8080/"
        }
      },
      "outputs": [
        {
          "output_type": "stream",
          "name": "stdout",
          "text": [
            "Cloning into 'ATEK'...\n",
            "remote: Enumerating objects: 184, done.\u001b[K\n",
            "remote: Counting objects: 100% (137/137), done.\u001b[K\n",
            "remote: Compressing objects: 100% (112/112), done.\u001b[K\n",
            "remote: Total 184 (delta 42), reused 64 (delta 25), pack-reused 47 (from 1)\u001b[K\n",
            "Receiving objects: 100% (184/184), 8.53 MiB | 17.71 MiB/s, done.\n",
            "Resolving deltas: 100% (50/50), done.\n"
          ]
        }
      ],
      "source": [
        "!git clone https://github.com/facebookresearch/ATEK.git"
      ]
    },
    {
      "cell_type": "markdown",
      "metadata": {
        "id": "tTp3xS-Ggpe4"
      },
      "source": [
        "## Part1: Data proprocessing\n",
        "\n",
        "###  Data preprocessing requirements\n",
        "ADT sequence has:\n",
        "1. Aria recording (VRS).\n",
        "2. MPS trajectory file (CSV).\n",
        "3. Object detection annotation files (3 csv files + 1 json file).\n",
        "\n",
        "CubeRCNN model needs synchronized data frame containing:\n",
        "1. Upright RGB camera image.\n",
        "2. Linear camera calibration matrix.\n",
        "3. Object bounding box annotations in 2D + 3D.\n",
        "4. Camera-to-object poses.\n",
        "\n",
        "**Before ATEK**, users need to implement all the followings to prepare ADT sequence into CubeRCNN model:\n",
        "1. Parse in ADT sequence data using `projectaria_tools` lib.   \n",
        "2. Properly synchronize sensor + annotation data into training samples.\n",
        "3. Perform additional image & data processing:\n",
        "    1. Undistort image + camera calibration.\n",
        "    2. Rescale camera resolution.\n",
        "    3. Rotate image + camera calibration.\n",
        "    4. Undistort + rescale + rotate object 2D bounding boxes accordingly."
      ]
    },
    {
      "cell_type": "code",
      "execution_count": null,
      "metadata": {
        "collapsed": true,
        "id": "Yy79EFR8UZMS",
        "jupyter": {
          "outputs_hidden": true
        }
      },
      "outputs": [],
      "source": [
        "import faulthandler\n",
        "import logging\n",
        "import os\n",
        "from logging import StreamHandler\n",
        "import numpy as np\n",
        "from typing import Dict, List, Optional\n",
        "import torch\n",
        "import sys\n",
        "from itertools import islice\n",
        "from tqdm import tqdm\n",
        "\n",
        "from atek.data_preprocess.genera_atek_preprocessor_factory import (\n",
        "    create_general_atek_preprocessor_from_conf,\n",
        ")\n",
        "from atek.viz.atek_visualizer import NativeAtekSampleVisualizer\n",
        "from atek.data_preprocess.general_atek_preprocessor import GeneralAtekPreprocessor\n",
        "from atek.data_loaders.atek_wds_dataloader import (\n",
        "    create_native_atek_dataloader\n",
        ")\n",
        "\n",
        "from atek.data_loaders.cubercnn_model_adaptor import (\n",
        "    cubercnn_collation_fn,\n",
        "    create_atek_dataloader_as_cubercnn\n",
        ")\n",
        "from atek.evaluation.static_object_detection.obb3_csv_io import AtekObb3CsvWriter\n",
        "\n",
        "from atek.data_preprocess.atek_data_sample import (\n",
        "    create_atek_data_sample_from_flatten_dict,\n",
        ")\n",
        "from cubercnn.config import get_cfg_defaults\n",
        "from cubercnn.modeling.backbone import build_dla_from_vision_fpn_backbone\n",
        "from cubercnn.modeling.meta_arch import build_model\n",
        "\n",
        "from detectron2.checkpoint import DetectionCheckpointer\n",
        "from detectron2.config import get_cfg\n",
        "from omegaconf import OmegaConf\n",
        "import subprocess"
      ]
    },
    {
      "cell_type": "markdown",
      "metadata": {
        "id": "YJNAP3W2g_CL"
      },
      "source": [
        "## Download ADT sequences from projectaria.com"
      ]
    },
    {
      "cell_type": "code",
      "execution_count": null,
      "metadata": {
        "collapsed": true,
        "id": "Fy-pj5ejrMn8",
        "jupyter": {
          "outputs_hidden": true
        }
      },
      "outputs": [],
      "source": [
        "adt_sample_path = \"./adt_sample_data\"\n",
        "data_sequence_url = \"https://www.projectaria.com/async/sample/download/?bucket=adt&filename=aria_digital_twin_test_data_v2.zip\"\n",
        "command_list = [\n",
        "    f\"mkdir -p {adt_sample_path}\",\n",
        "    # Download sample data\n",
        "    f'curl -o {adt_sample_path}/adt_sample_data.zip -C - -O -L \"{data_sequence_url}\"',\n",
        "    # Unzip the sample data\n",
        "    f\"unzip -o {adt_sample_path}/adt_sample_data.zip -d {adt_sample_path}\"\n",
        "]\n",
        "sequence_path = f\"{adt_sample_path}/Apartment_release_golden_skeleton_seq100_10s_sample_M1292\"\n",
        "\n",
        "# Execute the commands for downloading dataset\n",
        "for command in command_list:\n",
        "    subprocess.run(command, shell=True, check=True)"
      ]
    },
    {
      "cell_type": "markdown",
      "metadata": {
        "id": "mGJc-2B_hF03"
      },
      "source": [
        "###  Set up data and code paths"
      ]
    },
    {
      "cell_type": "code",
      "execution_count": null,
      "metadata": {
        "id": "KGaKsE5IEol8"
      },
      "outputs": [],
      "source": [
        "example_adt_data_dir = f\"{adt_sample_path}/Apartment_release_golden_skeleton_seq100_10s_sample_M1292\"\n",
        "sequence_name = \"Apartment_release_golden_skeleton_seq100_10s_sample_M1292\"\n",
        "atek_src_path = \"/content/ATEK\"\n",
        "category_mapping_file = f\"{atek_src_path}/data/adt_prototype_to_atek.csv\"\n",
        "atek_preprocess_config_path = f\"{atek_src_path}/examples/data/adt_cubercnn_preprocess_config.yaml\"\n",
        "preprocess_conf = OmegaConf.load(atek_preprocess_config_path)\n",
        "# Take viz conf out of preprocess conf\n",
        "viz_conf = preprocess_conf.visualizer\n",
        "del preprocess_conf.visualizer\n",
        "\n",
        "# Create viz conf for inference viewer\n",
        "infer_viz_config_path = f\"{atek_src_path}/examples/data/infer_viz_conf.yaml\"\n",
        "infer_viz_conf = OmegaConf.load(infer_viz_config_path)\n",
        "\n",
        "output_wds_path = f\"{atek_src_path}/examples/data/wds_output\""
      ]
    },
    {
      "cell_type": "markdown",
      "metadata": {
        "id": "nBcS5GTahgx5"
      },
      "source": [
        "### Helper functions"
      ]
    },
    {
      "cell_type": "code",
      "execution_count": null,
      "metadata": {
        "id": "uw-Yzp1pjyJd"
      },
      "outputs": [],
      "source": [
        "faulthandler.enable()\n",
        "\n",
        "# Configure logging to display the log messages in the notebook\n",
        "logging.basicConfig(\n",
        "    level=logging.INFO,\n",
        "    format='%(asctime)s - %(levelname)s - %(message)s',\n",
        "    handlers=[\n",
        "        logging.StreamHandler(sys.stdout)\n",
        "    ]\n",
        ")\n",
        "\n",
        "logger = logging.getLogger()\n",
        "\n",
        "\n",
        "# -------------------- Helper functions --------------------#\n",
        "def print_data_sample_dict_content(data_sample, if_pretty: bool = False):\n",
        "    \"\"\"\n",
        "    A helper function to print the content of data sample dict\n",
        "    \"\"\"\n",
        "    logger.info(\"Printing the content in a ATEK data sample dict: \")\n",
        "    for key, val in data_sample.items():\n",
        "        if if_pretty and \"#\" in key:\n",
        "            key = key.split(\"#\", 1)[1]\n",
        "\n",
        "        msg = f\"\\t {key}: is a {type(val)}, \"\n",
        "        if isinstance(val, torch.Tensor):\n",
        "            msg += f\"\\n \\t\\t\\t\\t with tensor dtype of {val.dtype}, and shape of : {val.shape}\"\n",
        "        elif isinstance(val, list):\n",
        "            msg += f\"with len of : {len(val)}\"\n",
        "        elif isinstance(val, str):\n",
        "            msg += f\"value is {val}\"\n",
        "        else:\n",
        "            pass\n",
        "        logger.info(msg)\n",
        "\n",
        "def run_command_and_display_output(command):\n",
        "    # Start the process\n",
        "    process = subprocess.Popen(command, stdout=subprocess.PIPE, stderr=subprocess.STDOUT, text=True)\n",
        "\n",
        "    # Poll process.stdout to show stdout live\n",
        "    while True:\n",
        "        output = process.stdout.readline()\n",
        "        if output == '' and process.poll() is not None:\n",
        "            break\n",
        "        if output:\n",
        "            print(output.strip())\n",
        "    rc = process.poll()\n",
        "    return rc\n",
        "\n",
        "def create_inference_model(config_file, ckpt_dir, use_cpu_only=False):\n",
        "    \"\"\"\n",
        "    Create the model for inference pipeline, with the model config.\n",
        "    \"\"\"\n",
        "    # Create default model configuration\n",
        "    model_config = get_cfg()\n",
        "    model_config.set_new_allowed(True)\n",
        "    get_cfg_defaults(model_config)\n",
        "\n",
        "    # add extra configs for data\n",
        "    model_config.MAX_TRAINING_ATTEMPTS = 3\n",
        "    model_config.TRAIN_LIST = \"\"\n",
        "    model_config.TEST_LIST = \"\"\n",
        "    model_config.TRAIN_WDS_DIR = \"\"\n",
        "    model_config.TEST_WDS_DIR = \"\"\n",
        "    model_config.ID_MAP_JSON = \"\"\n",
        "    model_config.OBJ_PROP_JSON = \"\"\n",
        "    model_config.CATEGORY_JSON = \"\"\n",
        "    model_config.DATASETS.OBJECT_DETECTION_MODE = \"\"\n",
        "    model_config.SOLVER.VAL_MAX_ITER = 0\n",
        "    model_config.SOLVER.MAX_EPOCH = 0\n",
        "\n",
        "    model_config.merge_from_file(config_file)\n",
        "    if use_cpu_only:\n",
        "        model_config.MODEL.DEVICE = \"cpu\"\n",
        "    model_config.freeze()\n",
        "\n",
        "    model = build_model(model_config, priors=None)\n",
        "\n",
        "    _ = DetectionCheckpointer(model, save_dir=ckpt_dir).resume_or_load(\n",
        "        model_config.MODEL.WEIGHTS, resume=True\n",
        "    )\n",
        "    model.eval()\n",
        "\n",
        "    return model_config, model"
      ]
    },
    {
      "cell_type": "markdown",
      "metadata": {
        "id": "rvdmyAIrhngs"
      },
      "source": [
        "### Set up and run ATEK data preprocessor"
      ]
    },
    {
      "cell_type": "code",
      "execution_count": null,
      "metadata": {
        "collapsed": true,
        "id": "Ua3oo2TSsYm0",
        "jupyter": {
          "outputs_hidden": true
        }
      },
      "outputs": [],
      "source": [
        "# Create ATEK preprocessor from conf. It will automatically choose which type of sample to build.\n",
        "atek_preprocessor = create_general_atek_preprocessor_from_conf(\n",
        "    # [required]\n",
        "    conf=preprocess_conf,\n",
        "    raw_data_folder = example_adt_data_dir,\n",
        "    sequence_name = sequence_name,\n",
        "    # [optional]\n",
        "    output_wds_folder=output_wds_path,\n",
        "    output_viz_file=os.path.join(example_adt_data_dir, \"atek_preprocess_viz.rrd\"),\n",
        "    category_mapping_file=category_mapping_file,\n",
        ")"
      ]
    },
    {
      "cell_type": "markdown",
      "metadata": {
        "id": "cxgiEJAFiDDH"
      },
      "source": [
        "## Preprocessed ATEK data sample content\n",
        "* Preprocessing input: VRS + csv + jsons\n",
        "* Preprocessing output (in memory): ATEK data samples: `Dict[torch.Tensor, str, or Dict]`\n",
        "* Preprocessing output (on local disk): WebDataset (WDS) tar files."
      ]
    },
    {
      "cell_type": "code",
      "execution_count": null,
      "metadata": {
        "collapsed": true,
        "id": "BS-OuwW9scUP",
        "jupyter": {
          "outputs_hidden": true
        }
      },
      "outputs": [],
      "source": [
        "atek_data_sample = atek_preprocessor[0]\n",
        "atek_data_sample_dict = atek_data_sample.to_flatten_dict()\n",
        "print_data_sample_dict_content(atek_data_sample_dict)\n",
        "\n",
        "# Loop over all samples, and write valid ones to local tar files.\n",
        "atek_preprocessor.process_all_samples(write_to_wds_flag=True, viz_flag=False)"
      ]
    },
    {
      "cell_type": "markdown",
      "metadata": {
        "id": "qDUCTF0gs48Y"
      },
      "source": [
        "## Visualize preprocessed ATEK data sample"
      ]
    },
    {
      "cell_type": "markdown",
      "source": [
        "If you did not see the visualization, please run the following code block again. Sometimes rerun visualization on colab notebook is not stable."
      ],
      "metadata": {
        "id": "WgVjAj4giJ4g"
      }
    },
    {
      "cell_type": "code",
      "execution_count": null,
      "metadata": {
        "id": "cVCo0il9abVi"
      },
      "outputs": [],
      "source": [
        "tar_file_urls = [os.path.join(output_wds_path, f\"shards-000{i}.tar\") for i in range(2)]\n",
        "atek_dataloader = create_native_atek_dataloader(urls = tar_file_urls, batch_size = None, num_workers = 1)\n",
        "atek_viz = NativeAtekSampleVisualizer(viz_prefix = \"notebook atek viz\", show_on_notebook = True, conf = viz_conf)\n",
        "for atek_sample in tqdm(islice(atek_dataloader, 10)):\n",
        "    atek_viz.plot_atek_sample_as_dict(atek_sample)"
      ]
    },
    {
      "cell_type": "markdown",
      "metadata": {
        "id": "LVbIgzI6jciw"
      },
      "source": [
        "# Part 2: Run Object detection inference using pre-trained CubeRCNN model\n",
        "In this example, we demonstrate how to run model inference with preprocessed ATEK data streamed from Data Store."
      ]
    },
    {
      "cell_type": "markdown",
      "metadata": {
        "id": "J2tOwBZ8k4cp"
      },
      "source": [
        "### Create PyTorch DataLoader, converted to CubeRCNN format\n",
        "User can add a data transform function from ATEK format -> CubeRCNN format:\n",
        "1. Dict key remapping.\n",
        "2. Tensor reshaping & reordering.\n",
        "3. Other data transformations.\n",
        "\n",
        "Example data transform function for CubeRCNN model: [src code](https://www.internalfb.com/code/fbsource/[a5c3831c045bc718862d1c512e84d4ed6f79d722]/fbcode/surreal/data_services/atek/atek/data_loaders/cubercnn_model_adaptor.py?lines=44-74)"
      ]
    },
    {
      "cell_type": "code",
      "execution_count": null,
      "metadata": {
        "collapsed": true,
        "id": "i7GgyyaWZvFB",
        "jupyter": {
          "outputs_hidden": true
        }
      },
      "outputs": [],
      "source": [
        "import logging\n",
        "logger = logging.getLogger()\n",
        "logger.info(\n",
        "    \"-------------------- ATEK WDS data can loaded into Model-specific format --------------- \"\n",
        ")\n",
        "# The CubeRCNN ModelAdaptor class is wrapped in this function\n",
        "cubercnn_dataloader = create_atek_dataloader_as_cubercnn(urls = tar_file_urls, batch_size = 1, num_workers = 1)\n",
        "first_cubercnn_sample = next(iter(cubercnn_dataloader))\n",
        "logger.info(f\"Loading WDS into CubeRCNN format, each sample contains the following keys: {first_cubercnn_sample[0].keys()}\")"
      ]
    },
    {
      "cell_type": "markdown",
      "metadata": {
        "id": "pWyaUUQPk6Te"
      },
      "source": [
        "### Run model inference"
      ]
    },
    {
      "cell_type": "code",
      "execution_count": null,
      "metadata": {
        "id": "-0RWOhlrjaKE"
      },
      "outputs": [],
      "source": [
        "from tqdm import tqdm\n",
        "model_ckpt_path = \"/content/data/model_weights/ATEK_example_cubercnn_weights_trained_on_ADT\"\n",
        "# load pre-trained CubeRCNN model\n",
        "model_config_file = os.path.join(model_ckpt_path, \"config.yaml\")\n",
        "conf = OmegaConf.load(model_config_file)\n",
        "\n",
        "# setup config and model\n",
        "model_config, model = create_inference_model(\n",
        "    model_config_file, model_ckpt_path, use_cpu_only = True\n",
        ")\n",
        "\n",
        "# Cache inference results for visualization\n",
        "input_output_data_pairs = []\n",
        "\n",
        "# Loop over created Pytorch Dataloader, only 5 batches for demonstration\n",
        "with torch.no_grad():\n",
        "    for cubercnn_input_data in tqdm(\n",
        "       islice(cubercnn_dataloader, 5),\n",
        "        desc=\"Inference progress: \",\n",
        "    ):\n",
        "        cubercnn_model_output = model(cubercnn_input_data)\n",
        "\n",
        "        # cache inference results for visualization\n",
        "        input_output_data_pairs.append((cubercnn_input_data, cubercnn_model_output))\n",
        "\n",
        "logger.info(\"Inference completed.\")"
      ]
    },
    {
      "cell_type": "markdown",
      "metadata": {
        "id": "uKegL5oFtEK-"
      },
      "source": [
        "## Visualize inference result\n",
        "\n",
        "If you did not see the visualization, please run the following code block again. Sometimes rerun visualization on colab notebook is not stable."
      ]
    },
    {
      "cell_type": "code",
      "execution_count": null,
      "metadata": {
        "collapsed": true,
        "id": "SHTdX-AxkZR_",
        "jupyter": {
          "outputs_hidden": true
        }
      },
      "outputs": [],
      "source": [
        "from atek.viz.cubercnn_visualizer import CubercnnVisualizer\n",
        "\n",
        "# Visualize cached inference results\n",
        "logger.info(\"Visualizing inference results.\")\n",
        "cubercnn_visualizer = CubercnnVisualizer(viz_prefix = \"inference_visualizer\", show_on_notebook = True, conf = viz_conf)\n",
        "for input_data_as_list, output_data_as_list in input_output_data_pairs:\n",
        "    for single_cubercnn_input, single_cubercnn_output in zip(input_data_as_list, output_data_as_list):\n",
        "        timestamp_ns = single_cubercnn_input[\"timestamp_ns\"]\n",
        "        # Plot RGB image\n",
        "        cubercnn_visualizer.plot_cubercnn_img(single_cubercnn_input[\"image\"], timestamp_ns = timestamp_ns)\n",
        "\n",
        "        # Plot GT and prediction in different colors\n",
        "        single_cubercnn_output[\"T_world_camera\"] = single_cubercnn_input[\"T_world_camera\"] # This patch is needed for visualization\n",
        "        cubercnn_visualizer.plot_cubercnn_dict(cubercnn_dict = single_cubercnn_input, timestamp_ns = timestamp_ns, plot_color = cubercnn_visualizer.COLOR_GREEN, suffix = \"_model_input\")\n",
        "        cubercnn_visualizer.plot_cubercnn_dict(cubercnn_dict = single_cubercnn_output, timestamp_ns = timestamp_ns, plot_color = cubercnn_visualizer.COLOR_RED, suffix = \"_model_output\")"
      ]
    },
    {
      "cell_type": "markdown",
      "metadata": {
        "id": "Ttd-XYROmW1E"
      },
      "source": [
        "## Part 3: Evaluate model performance\n",
        "ATEK provides **per-task**:\n",
        "1. Standardized prediction file formats.\n",
        "2. Lib for common eval metrics.\n",
        "3. Benchmarking scripts.\n",
        "\n",
        "Example prediction file format for 3D object detection:\n",
        "\n",
        "| time_ns       | tx_world_object | ty_world_object | tz_world_object | qw_world_object | qx_world_object | qy_world_object | qz_world_object | scale_x | scale_y | scale_z | name    | instance | sem_id | prob    |\n",
        "|---------------|-----------------|-----------------|-----------------|-----------------|-----------------|-----------------|-----------------|---------|---------|---------|---------|----------|--------|--------|\n",
        "| 14588033546600| -4.119894       | 0.986124        | 2.796770        | 0.008052        | -0.022706       | -0.010150       | 0.999658        | 0.190   | 2.146   | 0.900   | door    | -1       | 32     | 0.994462|\n",
        "| 14588033546600| -3.875954       | 0.837941        | 4.056602        | 0.009215        | -0.015670       | 0.999661        | -0.018645       | 0.325   | 1.697   | 0.964   | display | -1       | 37     | 0.994381|"
      ]
    },
    {
      "cell_type": "markdown",
      "metadata": {
        "id": "ISxm_8RqmdIt"
      },
      "source": [
        "### Write inference results into ATEK-format csv files\n"
      ]
    },
    {
      "cell_type": "code",
      "execution_count": null,
      "metadata": {
        "id": "AU9azyidmVUG"
      },
      "outputs": [],
      "source": [
        "from atek.evaluation.static_object_detection.obb3_csv_io import AtekObb3CsvWriter\n",
        "data_dir = \"/content/data\"\n",
        "os.makedirs(data_dir, exist_ok = True)\n",
        "\n",
        "gt_writer = AtekObb3CsvWriter(output_filename = os.path.join(data_dir, \"gt_obbs.csv\"))\n",
        "prediction_writer = AtekObb3CsvWriter(output_filename = os.path.join(data_dir, \"prediction_obbs.csv\"))\n",
        "\n",
        "for input_data_as_list, output_data_as_list in input_output_data_pairs:\n",
        "    for single_cubercnn_input, single_cubercnn_output in zip(input_data_as_list, output_data_as_list):\n",
        "        timestamp_ns = single_cubercnn_input[\"timestamp_ns\"]\n",
        "        single_cubercnn_output[\"T_world_camera\"] = single_cubercnn_input[\"T_world_camera\"]\n",
        "\n",
        "        gt_writer.write_from_cubercnn_dict(cubercnn_dict = single_cubercnn_input, timestamp_ns = timestamp_ns)\n",
        "        prediction_writer.write_from_cubercnn_dict(cubercnn_dict = single_cubercnn_output, timestamp_ns = timestamp_ns)\n",
        "logger.info(\"Finished writing obb csv files\")"
      ]
    },
    {
      "cell_type": "markdown",
      "metadata": {
        "id": "oUmOT3t8mq2n"
      },
      "source": [
        "### Call ATEK's benchmarking script to evaluate the results"
      ]
    },
    {
      "cell_type": "code",
      "execution_count": null,
      "metadata": {
        "id": "6snS7A2NmVEW"
      },
      "outputs": [],
      "source": [
        "benchmarking_command = [\n",
        "    \"python3\", f\"{atek_src_path}/tools/benchmarking_static_object_detection.py\",\n",
        "    \"--pred-csv\", f\"{data_dir}/prediction_obbs.csv\",\n",
        "    \"--gt-csv\", f\"{data_dir}/gt_obbs.csv\",\n",
        "    \"--output-file\", f\"{data_dir}/atek_metrics.json\"\n",
        "]\n",
        "return_code = run_command_and_display_output(benchmarking_command)"
      ]
    }
  ],
  "metadata": {
    "colab": {
      "provenance": []
    },
    "kernelspec": {
      "display_name": "Python 3 (ipykernel)",
      "language": "python",
      "name": "python3"
    },
    "language_info": {
      "codemirror_mode": {
        "name": "ipython",
        "version": 3
      },
      "file_extension": ".py",
      "mimetype": "text/x-python",
      "name": "python",
      "nbconvert_exporter": "python",
      "pygments_lexer": "ipython3",
      "version": "3.9.19"
    }
  },
  "nbformat": 4,
  "nbformat_minor": 0
}